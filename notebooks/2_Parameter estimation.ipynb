{
 "cells": [
  {
   "cell_type": "code",
   "execution_count": 2,
   "metadata": {
    "collapsed": false
   },
   "outputs": [
    {
     "name": "stdout",
     "output_type": "stream",
     "text": [
      "The autoreload extension is already loaded. To reload it, use:\n",
      "  %reload_ext autoreload\n"
     ]
    }
   ],
   "source": [
    "import sys\n",
    "import os\n",
    "sys.path.insert(0,os.path.abspath(\"../lib/\"))\n",
    "\n",
    "import json\n",
    "\n",
    "from util import JSONExtendedEncoder\n",
    "\n",
    "from modulecontainers import Modules\n",
    "\n",
    "%load_ext autoreload\n",
    "%autoreload 2\n",
    "\n",
    "%matplotlib inline\n",
    "from matplotlib.pyplot import *\n",
    "\n",
    "import pandas as pd\n",
    "import numpy as np\n",
    "\n",
    "import multiprocessing as mp\n",
    "\n",
    "from collections import OrderedDict\n",
    "\n",
    "from itertools import product\n",
    "from collections import defaultdict\n",
    "\n",
    "import itertools\n",
    "import shutil\n",
    "\n",
    "conf_folder = \"conf/\"\n",
    "\n",
    "from cluster import generate_batchcode\n",
    "import prism_cluster\n",
    "import os\n",
    "\n",
    "import pyperclip as pc"
   ]
  },
  {
   "cell_type": "code",
   "execution_count": 3,
   "metadata": {
    "collapsed": true
   },
   "outputs": [],
   "source": [
    "from modulescomparison import ModevalFunctional, ModevalKnownmodules, ModevalCoverage"
   ]
  },
  {
   "cell_type": "code",
   "execution_count": 211,
   "metadata": {
    "collapsed": true
   },
   "outputs": [],
   "source": [
    "methodname = \"dummy\"\n",
    "settings_name = \"paramexplo/\" + methodname\n",
    "settings = json.load(open(\"../conf/settings/{}.json\".format(settings_name)))"
   ]
  },
  {
   "cell_type": "code",
   "execution_count": 212,
   "metadata": {
    "collapsed": false
   },
   "outputs": [],
   "source": [
    "# create pool of processors\n",
    "if \"pool\" in locals().keys():\n",
    "    pool.close()\n",
    "pool = mp.Pool(mp.cpu_count()-1)"
   ]
  },
  {
   "cell_type": "code",
   "execution_count": 213,
   "metadata": {
    "collapsed": false
   },
   "outputs": [],
   "source": [
    "modeval_functional = ModevalFunctional([setting for setting in settings if not setting[\"dataset_name\"].startswith(\"synth\")])"
   ]
  },
  {
   "cell_type": "code",
   "execution_count": 214,
   "metadata": {
    "collapsed": false
   },
   "outputs": [
    {
     "name": "stdout",
     "output_type": "stream",
     "text": [
      "Evaluating a total of 28 settings.\n"
     ]
    }
   ],
   "source": [
    "modeval_functional.run(pool)"
   ]
  },
  {
   "cell_type": "code",
   "execution_count": 215,
   "metadata": {
    "collapsed": false
   },
   "outputs": [],
   "source": [
    "modeval_functional.save(settings_name)"
   ]
  },
  {
   "cell_type": "code",
   "execution_count": 216,
   "metadata": {
    "collapsed": false
   },
   "outputs": [],
   "source": [
    "scores = {}\n",
    "for methodname in [\"dummy\", \"agglom\"]:\n",
    "    settings_name = \"paramexplo/\" + methodname\n",
    "    settings = json.load(open(\"../conf/settings/{}.json\".format(settings_name)))\n",
    "    settings_dataset = pd.DataFrame([dict(settingid=settingid, **json.load(open(\"../\" + setting[\"dataset_location\"]))[\"params\"]) for settingid, setting in enumerate(settings)])\n",
    "    settings_method = pd.DataFrame([dict(settingid=settingid, **json.load(open(\"../\" + setting[\"method_location\"]))[\"params\"]) for settingid, setting in enumerate(settings)])\n",
    "    \n",
    "    modeval_functional.load(settings_name)\n",
    "\n",
    "    modeval_knownmodules = ModevalKnownmodules(settings)\n",
    "    modeval_knownmodules.load(settings_name)\n",
    "    modeval_coverage = ModevalCoverage(settings)\n",
    "    modeval_coverage.load(settings_name)\n",
    "\n",
    "    modeval_coverage.scores[\"refscore\"] = modeval_coverage.scores[\"aucodds_permuted\"]\n",
    "    modeval_knownmodules.scores[\"refscore\"] = modeval_knownmodules.scores[\"F1rprr_permuted\"]\n",
    "    modeval_knownmodules.scores[\"moduledef\"] = [modulesname if modulesname in [\"minimal\", \"strict\"] else \"interconnected\" for modulesname in modeval_knownmodules.scores[\"knownmodules_name\"]]\n",
    "\n",
    "    refscores = pd.concat([modeval_knownmodules.scores, modeval_coverage.scores], ignore_index=True)[[\"settingid\", \"refscore\", \"goldstandard\", \"moduledef\"]]\n",
    "    refscores = refscores.merge(settings_dataset, on=\"settingid\")\n",
    "    \n",
    "    proxyscores = modeval_functional.scores.rename(columns={\"score\":\"proxyscore\", \"scorename\":\"proxyname\"})\n",
    "    \n",
    "    combined = refscores.merge(proxyscores, on=\"settingid\")\n",
    "    \n",
    "    scores[methodname] = combined"
   ]
  },
  {
   "cell_type": "code",
   "execution_count": 217,
   "metadata": {
    "collapsed": true
   },
   "outputs": [],
   "source": [
    "optimalproxy_funcs = {\"asw\":np.nanargmax, \"ch\":np.nanargmax, \"dbindex\":np.nanargmin, \"dbstarindex\":np.nanargmin, \"bhi#go\":np.nanargmax, \"bhi#kegg\":np.nanargmax, \"bhi#reactome\":np.nanargmax, \n",
    "                      \"faucodds#go\":np.nanargmax, \"faucodds#kegg\":np.nanargmax, \"faucodds#reactome\":np.nanargmax}"
   ]
  },
  {
   "cell_type": "code",
   "execution_count": 218,
   "metadata": {
    "collapsed": false
   },
   "outputs": [
    {
     "name": "stderr",
     "output_type": "stream",
     "text": [
      "/usr/local/lib/python3.4/dist-packages/ipykernel/__main__.py:4: SettingWithCopyWarning: \n",
      "A value is trying to be set on a copy of a slice from a DataFrame\n",
      "\n",
      "See the caveats in the documentation: http://pandas.pydata.org/pandas-docs/stable/indexing.html#indexing-view-versus-copy\n"
     ]
    }
   ],
   "source": [
    "finalscores = []\n",
    "\n",
    "for method, methodscores in scores.items():\n",
    "    methodscores[\"proxyscore\"][np.isinf(methodscores[\"proxyscore\"])] = np.nan\n",
    "    for (dataset, goldstandard, proxyname), subscores in methodscores.groupby((\"datasetname\", \"goldstandard\", \"proxyname\")):\n",
    "        if proxyname not in optimalproxy_funcs.keys():\n",
    "            continue\n",
    "        if proxyname.endswith(\"reactome\"):\n",
    "            continue\n",
    "\n",
    "        optimalproxy_func = optimalproxy_funcs[proxyname]\n",
    "        if np.all(np.isnan(subscores[\"proxyscore\"])):\n",
    "            print(\"random?\", method)\n",
    "            print(dataset, refgrouper,proxygrouper)\n",
    "            optimalproxy = np.random.choice(subscores.index)\n",
    "        else:\n",
    "            optimalproxy = subscores.index[optimalproxy_func(subscores[\"proxyscore\"])]\n",
    "            \n",
    "        row = subscores.ix[optimalproxy].copy()\n",
    "        row[\"optimalrefscore\"] = subscores[\"refscore\"].max()\n",
    "        row[\"method\"] = method\n",
    "        finalscores.append(row)\n",
    "finalscores = pd.DataFrame(finalscores).rename(columns={\"organism\":\"organismoi\", \"goldstandard\":\"goldstandardoi\", \"refscore\":\"score\"})"
   ]
  },
  {
   "cell_type": "code",
   "execution_count": 219,
   "metadata": {
    "collapsed": true
   },
   "outputs": [],
   "source": [
    "from collections import Counter"
   ]
  },
  {
   "cell_type": "code",
   "execution_count": 220,
   "metadata": {
    "collapsed": false
   },
   "outputs": [
    {
     "data": {
      "text/plain": [
       "method\n",
       "agglom    4.804987\n",
       "dummy     0.625783\n",
       "dtype: float64"
      ]
     },
     "execution_count": 220,
     "metadata": {},
     "output_type": "execute_result"
    }
   ],
   "source": [
    "proxyscores_ = add_weights(finalscores)\n",
    "proxyscores = proxyscores_.groupby((\"proxyname\", \"method\")).apply(lambda x: np.average(x.score, weights=x.weight)).unstack()\n",
    "\n",
    "proxyscores_.groupby(\"method\").apply(lambda x: np.average(x.optimalrefscore, weights=x.weight))"
   ]
  },
  {
   "cell_type": "code",
   "execution_count": 221,
   "metadata": {
    "collapsed": true
   },
   "outputs": [],
   "source": [
    "testscores_original = pd.read_table(\"../results/testscores_.tsv\", index_col=0)\n",
    "testscores_original = testscores_original.query(\"organismoi != 'synth'\").groupby(\"method\").apply(lambda x: np.average(x.score, weights=x.weight))\n",
    "\n",
    "trainingscores_original = pd.read_table(\"../results/trainingscores_.tsv\", index_col=0)\n",
    "trainingscores_original = trainingscores_original.query(\"organismoi != 'synth'\").groupby(\"method\").apply(lambda x: np.average(x.score, weights=x.weight))\n",
    "\n",
    "proxyscores.ix[\"training\"] = trainingscores_original.ix[proxyscores.columns]\n",
    "proxyscores.ix[\"test\"] = testscores_original.ix[proxyscores.columns]"
   ]
  },
  {
   "cell_type": "code",
   "execution_count": 222,
   "metadata": {
    "collapsed": false,
    "scrolled": true
   },
   "outputs": [
    {
     "data": {
      "image/png": "[encoded data removed]",
      "text/plain": [
       "<matplotlib.figure.Figure at 0x7f2beb88e390>"
      ]
     },
     "metadata": {},
     "output_type": "display_data"
    }
   ],
   "source": [
    "xs = pd.Series(np.arange(0, len(proxyscores.columns)), index=proxyscores.columns)\n",
    "fig = figure(figsize=(len(xs)*0.5,4))\n",
    "ax = fig.add_subplot(111)\n",
    "\n",
    "markersettings = {\n",
    "    \"training\":[\"#999999\", \"_\", 0],\n",
    "    \"test\":[\"#333333\", \"_\", 0],\n",
    "    \"bhi#go\":[\"#00A6BF\", \"o\", 50],\n",
    "    \"faucodds#go\":[\"#0067bd\", \"o\", 50],\n",
    "    \"bhi#kegg\":[\"#00A6BF\", \"x\", 50],\n",
    "    \"faucodds#kegg\":[\"#0067bd\", \"x\", 50]\n",
    "}\n",
    "\n",
    "proxyorder = [\"test\", \"bhi#go\", \"faucodds#go\", \"bhi#kegg\", \"faucodds#kegg\", \"training\"]\n",
    "proxyscores = proxyscores.ix[proxyorder]\n",
    "w = 0.8\n",
    "for method, methodscores in proxyscores.iteritems():\n",
    "    x = xs[method]\n",
    "    ax.add_patch(\n",
    "        Rectangle(\n",
    "            (x-w/2, methodscores[\"test\"]),\n",
    "            w,\n",
    "            methodscores[\"training\"]-methodscores[\"test\"],\n",
    "            fc=\"#AAAAAA\", zorder=0, lw=0\n",
    "        )\n",
    "    )\n",
    "    for i, (proxygroup, score) in enumerate(methodscores.items()):\n",
    "        if proxygroup in [\"training\"]:#, \"test\"]:\n",
    "            \"\"\n",
    "        else:\n",
    "            markersetting = markersettings[proxygroup]\n",
    "            scatter(x, score, color=markersetting[0], marker=markersetting[1], s=markersetting[2], zorder=i+5)\n",
    "            #scatter(x, score, color=markersetting[0], marker=\"_\", s=250)\n",
    "            line =  Line2D((x-w/2,x+w/2),(score, score),color=markersetting[0], zorder=i+5, solid_capstyle=\"butt\", lw=1)\n",
    "            ax.add_artist(line)\n",
    "        \n",
    "ax.set_ylim(0, 6.5)\n",
    "ax.set_xlim(-.6, xs.max()+0.6)\n",
    "#axis(\"off\")\n",
    "ax.set_xticks(range(len(proxyscores.columns)))\n",
    "ax.set_xticklabels(proxyscores.columns, rotation=45, ha=\"right\")\n",
    "ax.set_yticks(np.arange(0, 6.01, 2))\n",
    "\n",
    "axhline(1, linestyle=\"--\", color=\"#555555\", lw=1)\n",
    "\n",
    "ax.tick_params(labelsize=14)"
   ]
  }
 ],
 "metadata": {
  "kernelspec": {
   "display_name": "Python 3",
   "language": "python",
   "name": "python3"
  },
  "language_info": {
   "codemirror_mode": {
    "name": "ipython",
    "version": 3
   },
   "file_extension": ".py",
   "mimetype": "text/x-python",
   "name": "python",
   "nbconvert_exporter": "python",
   "pygments_lexer": "ipython3",
   "version": "3.4.3"
  }
 },
 "nbformat": 4,
 "nbformat_minor": 0
}
